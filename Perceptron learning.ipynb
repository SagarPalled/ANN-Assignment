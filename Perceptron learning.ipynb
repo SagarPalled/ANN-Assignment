{
  "nbformat": 4,
  "nbformat_minor": 0,
  "metadata": {
    "colab": {
      "name": "Untitled0.ipynb",
      "version": "0.3.2",
      "provenance": []
    },
    "kernelspec": {
      "name": "python3",
      "display_name": "Python 3"
    }
  },
  "cells": [
    {
      "cell_type": "code",
      "metadata": {
        "id": "uGkQqBZEM1HF",
        "colab_type": "code",
        "colab": {
          "base_uri": "https://localhost:8080/",
          "height": 640
        },
        "outputId": "7299b3cb-75ab-474b-92c9-9c446b38e4e5"
      },
      "source": [
        "import sklearn.datasets\n",
        "import numpy as np\n",
        "import pandas as pd\n",
        "import matplotlib.pyplot as plt\n",
        "from sklearn.model_selection import train_test_split\n",
        "\n",
        "#load the breast cancer data\n",
        "breast_cancer = sklearn.datasets.load_breast_cancer()\n",
        "\n",
        "#convert the data to pandas dataframe.\n",
        "data = pd.DataFrame(breast_cancer.data, columns = breast_cancer.feature_names)\n",
        "data[\"class\"] = breast_cancer.target\n",
        "data.head()\n",
        "data.describe()\n",
        "\n",
        "#plotting a graph to see class imbalance\n",
        "data['class'].value_counts().plot(kind = \"barh\")\n",
        "plt.xlabel(\"Count\")\n",
        "plt.ylabel(\"Classes\")\n",
        "plt.show()\n",
        "\n",
        "from sklearn.preprocessing import MinMaxScaler\n",
        "#perform scaling on the data.\n",
        "X = data.drop(\"class\", axis = 1)\n",
        "Y = data[\"class\"]\n",
        "mnscaler = MinMaxScaler()\n",
        "X = mnscaler.fit_transform(X)\n",
        "X = pd.DataFrame(X, columns=data.drop(\"class\",axis = 1).columns)\n",
        "\n",
        "#train test split.\n",
        "X_train, X_test, Y_train, Y_test = train_test_split(X,Y, test_size = 0.1, stratify = Y, random_state = 1)\n",
        "class Perceptron:\n",
        "  \n",
        "  #constructor\n",
        "  def __init__ (self):\n",
        "    self.w = None\n",
        "    self.b = None\n",
        "    \n",
        "  #model  \n",
        "  def model(self, x):\n",
        "    return 1 if (np.dot(self.w, x) >= self.b) else 0\n",
        "  \n",
        "  #predictor to predict on the data based on w\n",
        "  def predict(self, X):\n",
        "    Y = []\n",
        "    for x in X:\n",
        "      result = self.model(x)\n",
        "      Y.append(result)\n",
        "    return np.array(Y)\n",
        "    \n",
        "  def fit(self, X, Y, epochs = 1, lr = 1):\n",
        "    self.w = np.ones(X.shape[1])\n",
        "    self.b = 0\n",
        "    accuracy = {}\n",
        "    max_accuracy = 0\n",
        "    wt_matrix = []\n",
        "    #for all epochs\n",
        "    for i in range(epochs):\n",
        "      for x, y in zip(X, Y):\n",
        "        y_pred = self.model(x)\n",
        "        if y == 1 and y_pred == 0:\n",
        "          self.w = self.w + lr * x\n",
        "          self.b = self.b - lr * 1\n",
        "        elif y == 0 and y_pred == 1:\n",
        "          self.w = self.w - lr * x\n",
        "          self.b = self.b + lr * 1\n",
        "          \n",
        "      wt_matrix.append(self.w)    \n",
        "      accuracy[i] = accuracy_score(self.predict(X), Y)\n",
        "      if (accuracy[i] > max_accuracy):\n",
        "        max_accuracy = accuracy[i]\n",
        "        chkptw = self.w\n",
        "        chkptb = self.b\n",
        "    #checkpoint (Save the weights and b value)\n",
        "    self.w = chkptw\n",
        "    self.b = chkptb\n",
        "        \n",
        "    print(max_accuracy)\n",
        "    #plot the accuracy values over epochs\n",
        "    plt.plot(accuracy.values())\n",
        "    plt.xlabel(\"Epoch #\")\n",
        "    plt.ylabel(\"Accuracy\")\n",
        "    plt.ylim([0, 1])\n",
        "    plt.show()\n",
        "    \n",
        "    #return the weight matrix, that contains weights over all epochs\n",
        "    return np.array(wt_matrix)\n",
        "perceptron = Perceptron()\n",
        "\n",
        "#epochs = 10000 and lr = 0.3\n",
        "wt_matrix = perceptron.fit(X_train, Y_train, 10000, 0.3)\n",
        "\n",
        "#making predictions on test data\n",
        "Y_pred_test = perceptron.predict(X_test)\n",
        "\n",
        "#checking the accuracy of the model\n",
        "print(accuracy_score(Y_pred_test, Y_test))\n"
      ],
      "execution_count": 2,
      "outputs": [
        {
          "output_type": "display_data",
          "data": {
            "image/png": "[encoded data removed]",
            "text/plain": [
              "<Figure size 432x288 with 1 Axes>"
            ]
          },
          "metadata": {
            "tags": []
          }
        },
        {
          "output_type": "error",
          "ename": "TypeError",
          "evalue": "ignored",
          "traceback": [
            "\u001b[0;31m---------------------------------------------------------------------------\u001b[0m",
            "\u001b[0;31mTypeError\u001b[0m                                 Traceback (most recent call last)",
            "\u001b[0;32m<ipython-input-2-c278a1708e30>\u001b[0m in \u001b[0;36m<module>\u001b[0;34m()\u001b[0m\n\u001b[1;32m     89\u001b[0m \u001b[0;34m\u001b[0m\u001b[0m\n\u001b[1;32m     90\u001b[0m \u001b[0;31m#epochs = 10000 and lr = 0.3\u001b[0m\u001b[0;34m\u001b[0m\u001b[0;34m\u001b[0m\u001b[0;34m\u001b[0m\u001b[0m\n\u001b[0;32m---> 91\u001b[0;31m \u001b[0mwt_matrix\u001b[0m \u001b[0;34m=\u001b[0m \u001b[0mperceptron\u001b[0m\u001b[0;34m.\u001b[0m\u001b[0mfit\u001b[0m\u001b[0;34m(\u001b[0m\u001b[0mX_train\u001b[0m\u001b[0;34m,\u001b[0m \u001b[0mY_train\u001b[0m\u001b[0;34m,\u001b[0m \u001b[0;36m10000\u001b[0m\u001b[0;34m,\u001b[0m \u001b[0;36m0.3\u001b[0m\u001b[0;34m)\u001b[0m\u001b[0;34m\u001b[0m\u001b[0;34m\u001b[0m\u001b[0m\n\u001b[0m\u001b[1;32m     92\u001b[0m \u001b[0;34m\u001b[0m\u001b[0m\n\u001b[1;32m     93\u001b[0m \u001b[0;31m#making predictions on test data\u001b[0m\u001b[0;34m\u001b[0m\u001b[0;34m\u001b[0m\u001b[0;34m\u001b[0m\u001b[0m\n",
            "\u001b[0;32m<ipython-input-2-c278a1708e30>\u001b[0m in \u001b[0;36mfit\u001b[0;34m(self, X, Y, epochs, lr)\u001b[0m\n\u001b[1;32m     58\u001b[0m     \u001b[0;32mfor\u001b[0m \u001b[0mi\u001b[0m \u001b[0;32min\u001b[0m \u001b[0mrange\u001b[0m\u001b[0;34m(\u001b[0m\u001b[0mepochs\u001b[0m\u001b[0;34m)\u001b[0m\u001b[0;34m:\u001b[0m\u001b[0;34m\u001b[0m\u001b[0;34m\u001b[0m\u001b[0m\n\u001b[1;32m     59\u001b[0m       \u001b[0;32mfor\u001b[0m \u001b[0mx\u001b[0m\u001b[0;34m,\u001b[0m \u001b[0my\u001b[0m \u001b[0;32min\u001b[0m \u001b[0mzip\u001b[0m\u001b[0;34m(\u001b[0m\u001b[0mX\u001b[0m\u001b[0;34m,\u001b[0m \u001b[0mY\u001b[0m\u001b[0;34m)\u001b[0m\u001b[0;34m:\u001b[0m\u001b[0;34m\u001b[0m\u001b[0;34m\u001b[0m\u001b[0m\n\u001b[0;32m---> 60\u001b[0;31m         \u001b[0my_pred\u001b[0m \u001b[0;34m=\u001b[0m \u001b[0mself\u001b[0m\u001b[0;34m.\u001b[0m\u001b[0mmodel\u001b[0m\u001b[0;34m(\u001b[0m\u001b[0mx\u001b[0m\u001b[0;34m)\u001b[0m\u001b[0;34m\u001b[0m\u001b[0;34m\u001b[0m\u001b[0m\n\u001b[0m\u001b[1;32m     61\u001b[0m         \u001b[0;32mif\u001b[0m \u001b[0my\u001b[0m \u001b[0;34m==\u001b[0m \u001b[0;36m1\u001b[0m \u001b[0;32mand\u001b[0m \u001b[0my_pred\u001b[0m \u001b[0;34m==\u001b[0m \u001b[0;36m0\u001b[0m\u001b[0;34m:\u001b[0m\u001b[0;34m\u001b[0m\u001b[0;34m\u001b[0m\u001b[0m\n\u001b[1;32m     62\u001b[0m           \u001b[0mself\u001b[0m\u001b[0;34m.\u001b[0m\u001b[0mw\u001b[0m \u001b[0;34m=\u001b[0m \u001b[0mself\u001b[0m\u001b[0;34m.\u001b[0m\u001b[0mw\u001b[0m \u001b[0;34m+\u001b[0m \u001b[0mlr\u001b[0m \u001b[0;34m*\u001b[0m \u001b[0mx\u001b[0m\u001b[0;34m\u001b[0m\u001b[0;34m\u001b[0m\u001b[0m\n",
            "\u001b[0;32m<ipython-input-2-c278a1708e30>\u001b[0m in \u001b[0;36mmodel\u001b[0;34m(self, x)\u001b[0m\n\u001b[1;32m     39\u001b[0m   \u001b[0;31m#model\u001b[0m\u001b[0;34m\u001b[0m\u001b[0;34m\u001b[0m\u001b[0;34m\u001b[0m\u001b[0m\n\u001b[1;32m     40\u001b[0m   \u001b[0;32mdef\u001b[0m \u001b[0mmodel\u001b[0m\u001b[0;34m(\u001b[0m\u001b[0mself\u001b[0m\u001b[0;34m,\u001b[0m \u001b[0mx\u001b[0m\u001b[0;34m)\u001b[0m\u001b[0;34m:\u001b[0m\u001b[0;34m\u001b[0m\u001b[0;34m\u001b[0m\u001b[0m\n\u001b[0;32m---> 41\u001b[0;31m     \u001b[0;32mreturn\u001b[0m \u001b[0;36m1\u001b[0m \u001b[0;32mif\u001b[0m \u001b[0;34m(\u001b[0m\u001b[0mnp\u001b[0m\u001b[0;34m.\u001b[0m\u001b[0mdot\u001b[0m\u001b[0;34m(\u001b[0m\u001b[0mself\u001b[0m\u001b[0;34m.\u001b[0m\u001b[0mw\u001b[0m\u001b[0;34m,\u001b[0m \u001b[0mx\u001b[0m\u001b[0;34m)\u001b[0m \u001b[0;34m>=\u001b[0m \u001b[0mself\u001b[0m\u001b[0;34m.\u001b[0m\u001b[0mb\u001b[0m\u001b[0;34m)\u001b[0m \u001b[0;32melse\u001b[0m \u001b[0;36m0\u001b[0m\u001b[0;34m\u001b[0m\u001b[0;34m\u001b[0m\u001b[0m\n\u001b[0m\u001b[1;32m     42\u001b[0m \u001b[0;34m\u001b[0m\u001b[0m\n\u001b[1;32m     43\u001b[0m   \u001b[0;31m#predictor to predict on the data based on w\u001b[0m\u001b[0;34m\u001b[0m\u001b[0;34m\u001b[0m\u001b[0;34m\u001b[0m\u001b[0m\n",
            "\u001b[0;31mTypeError\u001b[0m: Cannot cast array data from dtype('float64') to dtype('<U32') according to the rule 'safe'"
          ]
        }
      ]
    }
  ]
}